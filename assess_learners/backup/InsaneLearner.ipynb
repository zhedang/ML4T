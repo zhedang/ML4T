{
 "cells": [
  {
   "cell_type": "code",
   "execution_count": 24,
   "metadata": {},
   "outputs": [
    {
     "name": "stdout",
     "output_type": "stream",
     "text": [
      "Predicted Y values for test data:\n",
      "[0.5375625  0.4724406  0.59118457 0.52529266 0.50316677 0.52245326\n",
      " 0.58110294 0.58713652 0.61004201 0.54961342 0.55565574 0.57127194\n",
      " 0.52018417 0.51417608 0.46193595 0.48265459 0.49329784 0.64296506\n",
      " 0.59549039 0.59282464 0.46101164 0.57653293 0.43962624 0.59052396\n",
      " 0.62728864 0.47721006 0.52221511 0.60553978 0.63140558 0.48189917]\n",
      "RMSE on test data: 0.3277\n"
     ]
    }
   ],
   "source": [
    "import numpy as np \n",
    "import BagLearner as bl\n",
    "import LinRegLearner as lrl\n",
    "class InsaneLearner(object):\n",
    "    def __init__(self,verbose=False):\n",
    "        self.verbose=verbose\n",
    "        self.learners=[bl.BagLearner(learner = lrl.LinRegLearner, kwargs = {}, bags = 20, boost = False, verbose = False) for i in range(20)]\n",
    "    def add_evidence(self,data_x,data_y):\n",
    "        for learner in self.learners:\n",
    "            learner.add_evidence(data_x,data_y)\n",
    "    def query(self,points):\n",
    "        results = np.mean([learner.query(points) for learner in self.learners], axis=0)\n",
    "        return results\n",
    "\n",
    "if __name__ == \"__main__\":\n",
    "\n",
    "    Xtrain = np.random.rand(100, 5)  # 100 data points, 5 features\n",
    "    Ytrain = np.random.rand(100)     # 100 target values\n",
    "\n",
    "    # Generate separate random testing data\n",
    "    Xtest = np.random.rand(30, 5)    # 30 data points, 5 features\n",
    "    Ytest = np.random.rand(30)       # 30 target values\n",
    "\n",
    "    # Instantiate BagLearner with DTLearner (as an example)\n",
    "    learner=InsaneLearner(verbose=False)\n",
    "\n",
    "    # Train the BagLearner\n",
    "    learner.add_evidence(Xtrain, Ytrain)\n",
    "\n",
    "    # Query the BagLearner with the test set\n",
    "    Ypred = learner.query(Xtest)\n",
    "\n",
    "    # Calculate RMSE manually using numpy\n",
    "    mse = np.mean((Ytest - Ypred) ** 2)\n",
    "    rmse = np.sqrt(mse)\n",
    "\n",
    "    # Print out predictions and RMSE\n",
    "    print(\"Predicted Y values for test data:\")\n",
    "    print(Ypred)\n",
    "    print(f\"RMSE on test data: {rmse:.4f}\")"
   ]
  },
  {
   "cell_type": "code",
   "execution_count": 1,
   "metadata": {},
   "outputs": [
    {
     "data": {
      "text/plain": [
       "['hi', 'hi', 'hi', 'hi']"
      ]
     },
     "execution_count": 1,
     "metadata": {},
     "output_type": "execute_result"
    }
   ],
   "source": [
    "hi=['hi' for i in range(4)]\n",
    "hi"
   ]
  }
 ],
 "metadata": {
  "kernelspec": {
   "display_name": "Python 3",
   "language": "python",
   "name": "python3"
  },
  "language_info": {
   "codemirror_mode": {
    "name": "ipython",
    "version": 3
   },
   "file_extension": ".py",
   "mimetype": "text/x-python",
   "name": "python",
   "nbconvert_exporter": "python",
   "pygments_lexer": "ipython3",
   "version": "3.13.1"
  }
 },
 "nbformat": 4,
 "nbformat_minor": 2
}
