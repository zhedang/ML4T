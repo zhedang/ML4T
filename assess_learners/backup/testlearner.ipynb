{
 "cells": [
  {
   "cell_type": "code",
   "execution_count": 1,
   "metadata": {},
   "outputs": [],
   "source": [
    "import numpy as np\n",
    "import DTLearner as dt\n",
    "import RTLearner as rt\n",
    "import BagLearner as bl"
   ]
  },
  {
   "cell_type": "code",
   "execution_count": 2,
   "metadata": {},
   "outputs": [],
   "source": [
    "data = np.genfromtxt('Data/Istanbul.csv', delimiter=',', skip_header=1)\n",
    "data=data[:,1:]"
   ]
  },
  {
   "cell_type": "code",
   "execution_count": 3,
   "metadata": {},
   "outputs": [],
   "source": [
    "sum_num=data.shape[0]\n",
    "train_size=int(sum_num*0.6)\n",
    "train_indices=np.random.choice(sum_num,train_size,replace=False)"
   ]
  },
  {
   "cell_type": "code",
   "execution_count": 4,
   "metadata": {},
   "outputs": [],
   "source": [
    "data_train=data[train_indices]\n",
    "mask = np.ones(sum_num, dtype=bool)\n",
    "mask[train_indices] = False\n",
    "data_test=data[mask]\n",
    "train_x=data_train[:,:-1]\n",
    "train_y=data_train[:,-1]\n",
    "test_x=data_test[:,:-1]\n",
    "test_y=data_test[:,-1]"
   ]
  },
  {
   "cell_type": "code",
   "execution_count": 5,
   "metadata": {},
   "outputs": [],
   "source": [
    "Learner=dt.DTLearner(leaf_size=50)\n",
    "Learner.add_evidence(train_x,train_y)"
   ]
  },
  {
   "cell_type": "code",
   "execution_count": 11,
   "metadata": {},
   "outputs": [],
   "source": [
    "Learner = bl.BagLearner(learner = dt.DTLearner, kwargs = {\"leaf_size\":1}, bags = 20, boost = False, verbose = False)\n",
    "Learner.add_evidence(train_x,train_y)"
   ]
  },
  {
   "cell_type": "code",
   "execution_count": 12,
   "metadata": {},
   "outputs": [],
   "source": [
    "in_sample=Learner.query(train_x)\n",
    "out_sample=Learner.query(test_x)"
   ]
  },
  {
   "cell_type": "code",
   "execution_count": 7,
   "metadata": {},
   "outputs": [],
   "source": [
    "import math\n",
    "def rmse(y_true, y_pred):\n",
    "        \"\"\"Compute Root Mean Squared Error\"\"\"\n",
    "        return math.sqrt(((y_true - y_pred) ** 2).mean())\n",
    "\n",
    "def correlation(y_true, y_pred):\n",
    "        \"\"\"Compute correlation coefficient\"\"\"\n",
    "        return np.corrcoef(y_true, y_pred)[0, 1]"
   ]
  },
  {
   "cell_type": "code",
   "execution_count": 13,
   "metadata": {},
   "outputs": [
    {
     "data": {
      "text/plain": [
       "0.005731217764537909"
      ]
     },
     "execution_count": 13,
     "metadata": {},
     "output_type": "execute_result"
    }
   ],
   "source": [
    "rmse(test_y,out_sample)"
   ]
  },
  {
   "cell_type": "code",
   "execution_count": null,
   "metadata": {},
   "outputs": [],
   "source": []
  }
 ],
 "metadata": {
  "kernelspec": {
   "display_name": "Python 3",
   "language": "python",
   "name": "python3"
  },
  "language_info": {
   "codemirror_mode": {
    "name": "ipython",
    "version": 3
   },
   "file_extension": ".py",
   "mimetype": "text/x-python",
   "name": "python",
   "nbconvert_exporter": "python",
   "pygments_lexer": "ipython3",
   "version": "3.13.1"
  }
 },
 "nbformat": 4,
 "nbformat_minor": 2
}
